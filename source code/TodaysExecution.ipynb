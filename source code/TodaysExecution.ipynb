{
 "cells": [
  {
   "cell_type": "code",
   "execution_count": 1,
   "id": "cbfd5954",
   "metadata": {},
   "outputs": [],
   "source": [
    "import face_recognition as fr\n",
    "import cv2\n",
    "import numpy as np\n",
    "import os"
   ]
  },
  {
   "cell_type": "code",
   "execution_count": 2,
   "id": "af39cef4",
   "metadata": {},
   "outputs": [
    {
     "name": "stdout",
     "output_type": "stream",
     "text": [
      "['Bhanu', 'Hemanth', 'Joey', 'Monica', 'Phoebe', 'Rachel', 'Ross', 'Sumanth']\n"
     ]
    }
   ],
   "source": [
    "path = \"./train/\"\n",
    "\n",
    "known_names = []\n",
    "known_name_encodings = []\n",
    "\n",
    "images = os.listdir(path)\n",
    "for _ in images:\n",
    "    image = fr.load_image_file(path + _)\n",
    "    image_path = path + _\n",
    "    encoding = fr.face_encodings(image)[0]\n",
    "\n",
    "    known_name_encodings.append(encoding)\n",
    "    known_names.append(os.path.splitext(os.path.basename(image_path))[0].capitalize())\n",
    "\n",
    "print(known_names)"
   ]
  },
  {
   "cell_type": "code",
   "execution_count": 5,
   "id": "1495da2a",
   "metadata": {},
   "outputs": [],
   "source": [
    "test_image = \"./test/test.jpg\"\n",
    "image = cv2.imread(test_image)\n",
    "# image = cv2.cvtColor(image, cv2.COLOR_BGR2RGB)\n",
    "\n",
    "face_locations = fr.face_locations(image)\n",
    "face_encodings = fr.face_encodings(image, face_locations)\n",
    "\n",
    "for (top, right, bottom, left), face_encoding in zip(face_locations, face_encodings):\n",
    "    matches = fr.compare_faces(known_name_encodings, face_encoding)\n",
    "    name = \"\"\n",
    "\n",
    "    face_distances = fr.face_distance(known_name_encodings, face_encoding)\n",
    "    best_match = np.argmin(face_distances)\n",
    "\n",
    "    if matches[best_match]:\n",
    "        name = known_names[best_match]\n",
    "\n",
    "    cv2.rectangle(image, (left, top), (right, bottom), (0, 0, 255), 2)\n",
    "    cv2.rectangle(image, (left, bottom - 15), (right, bottom), (0, 0, 255), cv2.FILLED)\n",
    "    font = cv2.FONT_HERSHEY_DUPLEX\n",
    "    cv2.putText(image, name, (left + 6, bottom - 6), font, 1.0, (255, 255, 255), 1)\n"
   ]
  },
  {
   "cell_type": "code",
   "execution_count": 6,
   "id": "5a913d55",
   "metadata": {},
   "outputs": [],
   "source": [
    "cv2.imshow(\"Result\", image)\n",
    "cv2.imwrite(\"./output.jpg\", image)\n",
    "cv2.waitKey(0)\n",
    "cv2.destroyAllWindows()"
   ]
  },
  {
   "cell_type": "code",
   "execution_count": 1,
   "id": "b4dc1f32",
   "metadata": {},
   "outputs": [],
   "source": [
    "import face_recognition as fr\n",
    "import cv2\n",
    "import numpy as np\n",
    "import os"
   ]
  },
  {
   "cell_type": "code",
   "execution_count": 2,
   "id": "eefeee89",
   "metadata": {},
   "outputs": [
    {
     "name": "stdout",
     "output_type": "stream",
     "text": [
      "['Bhanu', 'Hemanth', 'Joey', 'Monica', 'Phoebe', 'Rachel', 'Ross', 'Sumanth']\n"
     ]
    }
   ],
   "source": [
    "path = \"./train/\"\n",
    "\n",
    "known_names = []\n",
    "known_name_encodings = []\n",
    "\n",
    "images = os.listdir(path)\n",
    "for _ in images:\n",
    "    image = fr.load_image_file(path + _)\n",
    "    image_path = path + _\n",
    "    encoding = fr.face_encodings(image)[0]\n",
    "\n",
    "    known_name_encodings.append(encoding)\n",
    "    known_names.append(os.path.splitext(os.path.basename(image_path))[0].capitalize())\n",
    "\n",
    "print(known_names)"
   ]
  },
  {
   "cell_type": "code",
   "execution_count": 7,
   "id": "f00a960b",
   "metadata": {},
   "outputs": [],
   "source": [
    "test_image = \"./test/test.jpg\"\n",
    "image = cv2.imread(test_image)\n",
    "\n",
    "\n",
    "face_locations = fr.face_locations(image)\n",
    "face_encodings = fr.face_encodings(image, face_locations)\n",
    "\n",
    "for (top, right, bottom, left), face_encoding in zip(face_locations, face_encodings):\n",
    "    matches = fr.compare_faces(known_name_encodings, face_encoding)\n",
    "    name = \"\"\n",
    "\n",
    "    face_distances = fr.face_distance(known_name_encodings, face_encoding)\n",
    "    best_match = np.argmin(face_distances)\n",
    "\n",
    "    if matches[best_match]:\n",
    "        name = known_names[best_match]\n",
    "\n",
    "    cv2.rectangle(image, (left, top), (right, bottom), (0, 0, 255), 2)\n",
    "    cv2.rectangle(image, (left, bottom - 15), (right, bottom), (0, 0, 255), cv2.FILLED)\n",
    "    font = cv2.FONT_HERSHEY_DUPLEX\n",
    "    cv2.putText(image, name, (left + 6, bottom - 6), font, 1.0, (255, 255, 255), 1)\n"
   ]
  },
  {
   "cell_type": "code",
   "execution_count": 8,
   "id": "2e909d9a",
   "metadata": {},
   "outputs": [],
   "source": [
    "cv2.imshow(\"Result\", image)\n",
    "cv2.imwrite(\"./output.jpg\", image)\n",
    "cv2.waitKey(0)\n",
    "cv2.destroyAllWindows()"
   ]
  },
  {
   "cell_type": "code",
   "execution_count": 1,
   "id": "13304179",
   "metadata": {},
   "outputs": [],
   "source": [
    "import face_recognition as fr\n",
    "import cv2\n",
    "import numpy as np\n",
    "import os"
   ]
  },
  {
   "cell_type": "code",
   "execution_count": 2,
   "id": "045bc943",
   "metadata": {},
   "outputs": [
    {
     "name": "stdout",
     "output_type": "stream",
     "text": [
      "['Bhanu', 'Hemanth', 'Joey', 'Monica', 'Phoebe', 'Rachel', 'Ross', 'Sumanth']\n"
     ]
    }
   ],
   "source": [
    "path = \"./train/\"\n",
    "\n",
    "known_names = []\n",
    "known_name_encodings = []\n",
    "\n",
    "images = os.listdir(path)\n",
    "for _ in images:\n",
    "    image = fr.load_image_file(path + _)\n",
    "    image_path = path + _\n",
    "    encoding = fr.face_encodings(image)[0]\n",
    "\n",
    "    known_name_encodings.append(encoding)\n",
    "    known_names.append(os.path.splitext(os.path.basename(image_path))[0].capitalize())\n",
    "\n",
    "print(known_names)\n"
   ]
  },
  {
   "cell_type": "code",
   "execution_count": 3,
   "id": "186bc87b",
   "metadata": {},
   "outputs": [],
   "source": [
    "test_image = \"./test/pic.jpg\"\n",
    "image = cv2.imread(test_image)\n",
    "# image = cv2.cvtColor(image, cv2.COLOR_BGR2RGB)\n",
    "\n",
    "face_locations = fr.face_locations(image)\n",
    "face_encodings = fr.face_encodings(image, face_locations)\n",
    "\n",
    "for (top, right, bottom, left), face_encoding in zip(face_locations, face_encodings):\n",
    "    matches = fr.compare_faces(known_name_encodings, face_encoding)\n",
    "    name = \"\"\n",
    "\n",
    "    face_distances = fr.face_distance(known_name_encodings, face_encoding)\n",
    "    best_match = np.argmin(face_distances)\n",
    "\n",
    "    if matches[best_match]:\n",
    "        name = known_names[best_match]\n",
    "\n",
    "    cv2.rectangle(image, (left, top), (right, bottom), (0, 0, 255), 2)\n",
    "    cv2.rectangle(image, (left, bottom - 15), (right, bottom), (0, 0, 255), cv2.FILLED)\n",
    "    font = cv2.FONT_HERSHEY_DUPLEX\n",
    "    cv2.putText(image, name, (left + 6, bottom - 6), font, 1.0, (255, 255, 255), 1)\n"
   ]
  },
  {
   "cell_type": "code",
   "execution_count": 4,
   "id": "3d684fc6",
   "metadata": {},
   "outputs": [],
   "source": [
    "cv2.imshow(\"Result\", image)\n",
    "cv2.imwrite(\"./output.jpg\", image)\n",
    "cv2.waitKey(0)\n",
    "cv2.destroyAllWindows()"
   ]
  },
  {
   "cell_type": "code",
   "execution_count": null,
   "id": "12fbb1f1",
   "metadata": {},
   "outputs": [],
   "source": []
  }
 ],
 "metadata": {
  "kernelspec": {
   "display_name": "Python 3 (ipykernel)",
   "language": "python",
   "name": "python3"
  },
  "language_info": {
   "codemirror_mode": {
    "name": "ipython",
    "version": 3
   },
   "file_extension": ".py",
   "mimetype": "text/x-python",
   "name": "python",
   "nbconvert_exporter": "python",
   "pygments_lexer": "ipython3",
   "version": "3.9.16"
  }
 },
 "nbformat": 4,
 "nbformat_minor": 5
}
